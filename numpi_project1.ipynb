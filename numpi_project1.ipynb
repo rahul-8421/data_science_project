{
 "cells": [
  {
   "cell_type": "code",
   "execution_count": 3,
   "id": "168dce32-8cb9-4a6c-b379-dd0150fc7293",
   "metadata": {},
   "outputs": [],
   "source": [
    "import numpy as np\n",
    "a=np.array([9,28,13,32,8,23,12,25,13,27,13,27,13,26,8,31,15,26,9,23,-13,24,7,26,12,21,8,27,13,20,6,29,14,31,13,23,10,32,6,25,7,23,8,27,9,29,14,20,10,29,9,20,15,31,9,32,8,20,14,27,9,28,8,23,6,26,7,29,13,21,10,30,14,23,8,29,12,20,9,20,12,23,7,25,11,29,11,28,6,32,15,20,8,23,10,30,15,27,12,31,9,22,12,32,14,31,10,30,7,28,15,28,7,21,7,21,5,20,3,22,4,21,3,5,20,2,5,22,2,21,2,18,4,18,6,20,3,2,21,7,6,21,8,18,6,19,2,22,5,22,2,4,21,4,7,21,7,18,5,19,5,21,7,19,8,8,20,7,7,20,12,20,-10,20,10,20,7,20,9,71,18,8,11,21,8,22,9,20,9,20,9,19,12,11,19,8,8,20,7,18,8,21,9,19,11,19,10,7,20,7,10,18,12,22,7,21,9,20,8,18,10,11,20,10])"
   ]
  },
  {
   "cell_type": "code",
   "execution_count": 4,
   "id": "f1300677-4bc7-43fe-96cc-75a99d555358",
   "metadata": {},
   "outputs": [
    {
     "data": {
      "text/plain": [
       "(224,)"
      ]
     },
     "execution_count": 4,
     "metadata": {},
     "output_type": "execute_result"
    }
   ],
   "source": [
    "a.shape"
   ]
  },
  {
   "cell_type": "code",
   "execution_count": 6,
   "id": "1e6d3afa-3909-43db-a4a0-e535dcd1280c",
   "metadata": {},
   "outputs": [
    {
     "data": {
      "text/plain": [
       "array([  9,  28,  13,  32,   8,  23,  12,  25,  13,  27,  13,  27,  13,\n",
       "        26,   8,  31,  15,  26,   9,  23, -13,  24,   7,  26,  12,  21,\n",
       "         8,  27,  13,  20,   6,  29,  14,  31,  13,  23,  10,  32,   6,\n",
       "        25,   7,  23,   8,  27,   9,  29,  14,  20,  10,  29,   9,  20,\n",
       "        15,  31,   9,  32,   8,  20,  14,  27,   9,  28,   8,  23,   6,\n",
       "        26,   7,  29,  13,  21,  10,  30,  14,  23,   8,  29,  12,  20,\n",
       "         9,  20,  12,  23,   7,  25,  11,  29,  11,  28,   6,  32,  15,\n",
       "        20,   8,  23,  10,  30,  15,  27,  12,  31,   9,  22,  12,  32,\n",
       "        14,  31,  10,  30,   7,  28,  15,  28,   7,  21,   7,  21,   5,\n",
       "        20,   3,  22,   4,  21,   3,   5,  20,   2,   5,  22,   2,  21,\n",
       "         2,  18,   4,  18,   6,  20,   3,   2,  21,   7,   6,  21,   8,\n",
       "        18,   6,  19,   2,  22,   5,  22,   2,   4,  21,   4,   7,  21,\n",
       "         7,  18,   5,  19,   5,  21,   7,  19,   8,   8,  20,   7,   7,\n",
       "        20,  12,  20, -10,  20,  10,  20,   7,  20,   9,  71,  18,   8,\n",
       "        11,  21,   8,  22,   9,  20,   9,  20,   9,  19,  12,  11,  19,\n",
       "         8,   8,  20,   7,  18,   8,  21,   9,  19,  11,  19,  10,   7,\n",
       "        20,   7,  10,  18,  12,  22,   7,  21,   9,  20,   8,  18,  10,\n",
       "        11,  20,  10])"
      ]
     },
     "execution_count": 6,
     "metadata": {},
     "output_type": "execute_result"
    }
   ],
   "source": [
    "a"
   ]
  },
  {
   "cell_type": "code",
   "execution_count": 7,
   "id": "7308f7be-e925-42b1-b668-649fece71972",
   "metadata": {},
   "outputs": [
    {
     "data": {
      "text/plain": [
       "array([[[[  9,  28],\n",
       "         [ 13,  32],\n",
       "         [  8,  23],\n",
       "         [ 12,  25],\n",
       "         [ 13,  27],\n",
       "         [ 13,  27],\n",
       "         [ 13,  26]],\n",
       "\n",
       "        [[  8,  31],\n",
       "         [ 15,  26],\n",
       "         [  9,  23],\n",
       "         [-13,  24],\n",
       "         [  7,  26],\n",
       "         [ 12,  21],\n",
       "         [  8,  27]],\n",
       "\n",
       "        [[ 13,  20],\n",
       "         [  6,  29],\n",
       "         [ 14,  31],\n",
       "         [ 13,  23],\n",
       "         [ 10,  32],\n",
       "         [  6,  25],\n",
       "         [  7,  23]],\n",
       "\n",
       "        [[  8,  27],\n",
       "         [  9,  29],\n",
       "         [ 14,  20],\n",
       "         [ 10,  29],\n",
       "         [  9,  20],\n",
       "         [ 15,  31],\n",
       "         [  9,  32]]],\n",
       "\n",
       "\n",
       "       [[[  8,  20],\n",
       "         [ 14,  27],\n",
       "         [  9,  28],\n",
       "         [  8,  23],\n",
       "         [  6,  26],\n",
       "         [  7,  29],\n",
       "         [ 13,  21]],\n",
       "\n",
       "        [[ 10,  30],\n",
       "         [ 14,  23],\n",
       "         [  8,  29],\n",
       "         [ 12,  20],\n",
       "         [  9,  20],\n",
       "         [ 12,  23],\n",
       "         [  7,  25]],\n",
       "\n",
       "        [[ 11,  29],\n",
       "         [ 11,  28],\n",
       "         [  6,  32],\n",
       "         [ 15,  20],\n",
       "         [  8,  23],\n",
       "         [ 10,  30],\n",
       "         [ 15,  27]],\n",
       "\n",
       "        [[ 12,  31],\n",
       "         [  9,  22],\n",
       "         [ 12,  32],\n",
       "         [ 14,  31],\n",
       "         [ 10,  30],\n",
       "         [  7,  28],\n",
       "         [ 15,  28]]],\n",
       "\n",
       "\n",
       "       [[[  7,  21],\n",
       "         [  7,  21],\n",
       "         [  5,  20],\n",
       "         [  3,  22],\n",
       "         [  4,  21],\n",
       "         [  3,   5],\n",
       "         [ 20,   2]],\n",
       "\n",
       "        [[  5,  22],\n",
       "         [  2,  21],\n",
       "         [  2,  18],\n",
       "         [  4,  18],\n",
       "         [  6,  20],\n",
       "         [  3,   2],\n",
       "         [ 21,   7]],\n",
       "\n",
       "        [[  6,  21],\n",
       "         [  8,  18],\n",
       "         [  6,  19],\n",
       "         [  2,  22],\n",
       "         [  5,  22],\n",
       "         [  2,   4],\n",
       "         [ 21,   4]],\n",
       "\n",
       "        [[  7,  21],\n",
       "         [  7,  18],\n",
       "         [  5,  19],\n",
       "         [  5,  21],\n",
       "         [  7,  19],\n",
       "         [  8,   8],\n",
       "         [ 20,   7]]],\n",
       "\n",
       "\n",
       "       [[[  7,  20],\n",
       "         [ 12,  20],\n",
       "         [-10,  20],\n",
       "         [ 10,  20],\n",
       "         [  7,  20],\n",
       "         [  9,  71],\n",
       "         [ 18,   8]],\n",
       "\n",
       "        [[ 11,  21],\n",
       "         [  8,  22],\n",
       "         [  9,  20],\n",
       "         [  9,  20],\n",
       "         [  9,  19],\n",
       "         [ 12,  11],\n",
       "         [ 19,   8]],\n",
       "\n",
       "        [[  8,  20],\n",
       "         [  7,  18],\n",
       "         [  8,  21],\n",
       "         [  9,  19],\n",
       "         [ 11,  19],\n",
       "         [ 10,   7],\n",
       "         [ 20,   7]],\n",
       "\n",
       "        [[ 10,  18],\n",
       "         [ 12,  22],\n",
       "         [  7,  21],\n",
       "         [  9,  20],\n",
       "         [  8,  18],\n",
       "         [ 10,  11],\n",
       "         [ 20,  10]]]])"
      ]
     },
     "execution_count": 7,
     "metadata": {},
     "output_type": "execute_result"
    }
   ],
   "source": [
    "#Q1\n",
    "b=a.reshape(4,4,7,2)\n",
    "b"
   ]
  },
  {
   "cell_type": "code",
   "execution_count": 8,
   "id": "59114c4c-fb34-46b9-95a1-32914893ef4a",
   "metadata": {},
   "outputs": [
    {
     "name": "stdout",
     "output_type": "stream",
     "text": [
      "4\n",
      "(4, 4, 7, 2)\n"
     ]
    }
   ],
   "source": [
    "#Q2\n",
    "print(b.ndim)\n",
    "print(b.shape)"
   ]
  },
  {
   "cell_type": "code",
   "execution_count": 10,
   "id": "56918423-fa3a-4c2e-bb6b-fd2f55f9c9c8",
   "metadata": {},
   "outputs": [
    {
     "name": "stdout",
     "output_type": "stream",
     "text": [
      "[[[  9  28]\n",
      "  [ 13  32]\n",
      "  [  8  23]\n",
      "  [ 12  25]\n",
      "  [ 13  27]\n",
      "  [ 13  27]\n",
      "  [ 13  26]]\n",
      "\n",
      " [[  8  20]\n",
      "  [ 14  27]\n",
      "  [  9  28]\n",
      "  [  8  23]\n",
      "  [  6  26]\n",
      "  [  7  29]\n",
      "  [ 13  21]]\n",
      "\n",
      " [[  7  21]\n",
      "  [  7  21]\n",
      "  [  5  20]\n",
      "  [  3  22]\n",
      "  [  4  21]\n",
      "  [  3   5]\n",
      "  [ 20   2]]\n",
      "\n",
      " [[  7  20]\n",
      "  [ 12  20]\n",
      "  [-10  20]\n",
      "  [ 10  20]\n",
      "  [  7  20]\n",
      "  [  9  71]\n",
      "  [ 18   8]]]\n"
     ]
    }
   ],
   "source": [
    "#Q3\n",
    "print(b[:,0,:,:])"
   ]
  },
  {
   "cell_type": "code",
   "execution_count": 12,
   "id": "39a02598-fa2b-4fcd-aa85-7619d3c05457",
   "metadata": {},
   "outputs": [
    {
     "name": "stdout",
     "output_type": "stream",
     "text": [
      "[[[13 32]\n",
      "  [15 26]\n",
      "  [ 6 29]\n",
      "  [ 9 29]]\n",
      "\n",
      " [[14 27]\n",
      "  [14 23]\n",
      "  [11 28]\n",
      "  [ 9 22]]\n",
      "\n",
      " [[ 7 21]\n",
      "  [ 2 21]\n",
      "  [ 8 18]\n",
      "  [ 7 18]]\n",
      "\n",
      " [[12 20]\n",
      "  [ 8 22]\n",
      "  [ 7 18]\n",
      "  [12 22]]]\n"
     ]
    }
   ],
   "source": [
    "#Q4\n",
    "print(b[:,:,1,:])"
   ]
  },
  {
   "cell_type": "code",
   "execution_count": 15,
   "id": "fb77e60e-8f31-4b4a-a0ce-5db1f9912485",
   "metadata": {},
   "outputs": [
    {
     "name": "stdout",
     "output_type": "stream",
     "text": [
      "[[[20 27 28 23 26 29 21]\n",
      "  [30 23 29 20 20 23 25]\n",
      "  [29 28 32 20 23 30 27]\n",
      "  [31 22 32 31 30 28 28]]\n",
      "\n",
      " [[20 20 20 20 20 71  8]\n",
      "  [21 22 20 20 19 11  8]\n",
      "  [20 18 21 19 19  7  7]\n",
      "  [18 22 21 20 18 11 10]]]\n"
     ]
    }
   ],
   "source": [
    "#Q5\n",
    "print(b[1:4:2,:,:,1])"
   ]
  },
  {
   "cell_type": "code",
   "execution_count": 40,
   "id": "4135ecc1-0af2-4eef-8588-afad407496d1",
   "metadata": {
    "scrolled": true
   },
   "outputs": [
    {
     "name": "stdout",
     "output_type": "stream",
     "text": [
      "[[False False False False False False False]\n",
      " [False False False  True  True False False]\n",
      " [False  True False False False  True  True]\n",
      " [False False False False False False False]]\n"
     ]
    }
   ],
   "source": [
    "#Q6\n",
    "ni = np.array(b[0, :, :, 0] < 8)\n",
    "print(ni)\n",
    "i=0\n",
    "j=0\n",
    "for i in range(4):\n",
    "    for j in range(7):\n",
    "        if (ni[i,j]==\"true\"):\n",
    "            print(\"week:\",i,\"\\nday:\",j)\n",
    "        j+=1\n",
    "    i+=1  \n"
   ]
  },
  {
   "cell_type": "code",
   "execution_count": 42,
   "id": "579ac7ba-088e-4530-8359-c781c2fc3898",
   "metadata": {},
   "outputs": [
    {
     "data": {
      "text/plain": [
       "21.839285714285715"
      ]
     },
     "execution_count": 42,
     "metadata": {},
     "output_type": "execute_result"
    }
   ],
   "source": [
    "#Q12\n",
    "winter = b[0:4, :, :, 1] \n",
    "w = np.mean(winter)\n",
    "w"
   ]
  },
  {
   "cell_type": "code",
   "execution_count": 47,
   "id": "33dc9c02-f131-42f2-9679-07ea980351d3",
   "metadata": {},
   "outputs": [
    {
     "name": "stdout",
     "output_type": "stream",
     "text": [
      "[[ 8 14  9  8  6  7 13]\n",
      " [10 14  8 12  9 12  7]\n",
      " [11 11  6 15  8 10 15]\n",
      " [12  9 12 14 10  7 15]]\n"
     ]
    },
    {
     "data": {
      "text/plain": [
       "array([ 9.28571429, 10.28571429, 10.85714286, 11.28571429])"
      ]
     },
     "execution_count": 47,
     "metadata": {},
     "output_type": "execute_result"
    }
   ],
   "source": [
    "#Q13\n",
    "dec = b[1, :, :, 0] \n",
    "print(dec)\n",
    "wd = np.mean(dec, axis=1)\n",
    "wd"
   ]
  },
  {
   "cell_type": "code",
   "execution_count": 50,
   "id": "776896dc-d802-4cf4-b032-45a9c035d7c9",
   "metadata": {},
   "outputs": [
    {
     "data": {
      "text/plain": [
       "14.919642857142858"
      ]
     },
     "execution_count": 50,
     "metadata": {},
     "output_type": "execute_result"
    }
   ],
   "source": [
    "#Q14\n",
    "dec_jan = np.concatenate((b[1, :, :, :], b[2, :, :, :]), )\n",
    "\n",
    "\n",
    "overall_avg_temp = np.mean(dec_jan)\n",
    "overall_avg_temp"
   ]
  },
  {
   "cell_type": "code",
   "execution_count": 51,
   "id": "effabdd3-f77c-4aa9-b43c-fba45b35470f",
   "metadata": {},
   "outputs": [
    {
     "name": "stdout",
     "output_type": "stream",
     "text": [
      "Least temperature: 2.00°C\n",
      "Date of occurrence: Month: January, Week: 2, Day: 2\n"
     ]
    }
   ],
   "source": [
    "#Q15\n",
    "dec_jan_min_temps = np.concatenate((b[1, :, :, 0], b[2, :, :, 0]), axis=0)\n",
    "least_temp = np.min(dec_jan_min_temps)\n",
    "least_temp_index = np.argmin(dec_jan_min_temps)\n",
    "\n",
    "# Determine the month, week, and day for the least temperature\n",
    "month, day_week_index, day = np.unravel_index(least_temp_index, (2, 4, 7))\n",
    "if month == 0:\n",
    "    month_name = \"December\"\n",
    "else:\n",
    "    month_name = \"January\"\n",
    "week = day_week_index + 1\n",
    "\n",
    "print(f\"Least temperature: {least_temp:.2f}°C\")\n",
    "print(f\"Date of occurrence: Month: {month_name}, Week: {week}, Day: {day + 1}\")"
   ]
  },
  {
   "cell_type": "code",
   "execution_count": 52,
   "id": "8059ef13-4d6f-4cb3-9e40-efcba4045dca",
   "metadata": {},
   "outputs": [
    {
     "name": "stdout",
     "output_type": "stream",
     "text": [
      "Max temperature in February: 71.00°C\n",
      "Date of occurrence: Month: February, Week: 1, Day: 6\n"
     ]
    }
   ],
   "source": [
    "#Q16\n",
    "feb_max_temps = b[3, :, :, 1] \n",
    "\n",
    "\n",
    "max_temp_feb = np.max(feb_max_temps)\n",
    "max_temp_feb_index = np.unravel_index(np.argmax(feb_max_temps), feb_max_temps.shape)\n",
    "\n",
    "\n",
    "month = 3\n",
    "week, day = max_temp_feb_index\n",
    "\n",
    "print(f\"Max temperature in February: {max_temp_feb:.2f}°C\")\n",
    "print(f\"Date of occurrence: Month: February, Week: {week + 1}, Day: {day + 1}\")"
   ]
  },
  {
   "cell_type": "code",
   "execution_count": 53,
   "id": "d033da1a-b9ec-4963-ab78-9be738d4088b",
   "metadata": {},
   "outputs": [
    {
     "name": "stdout",
     "output_type": "stream",
     "text": [
      "Days in November with max temp below average:\n",
      "Day 1\n",
      "Day 1\n",
      "Day 1\n",
      "Day 2\n",
      "Day 2\n",
      "Day 2\n",
      "Day 2\n",
      "Day 2\n",
      "Day 3\n",
      "Day 3\n",
      "Day 3\n",
      "Day 3\n",
      "Day 4\n",
      "Day 4\n"
     ]
    }
   ],
   "source": [
    "#Q17\n",
    "\n",
    "nov_max_temps = b[0, :, :, 1]\n",
    "\n",
    "avg_max_temp_nov = np.mean(nov_max_temps)\n",
    "\n",
    "days_below_avg_temp = np.where(nov_max_temps < avg_max_temp_nov)\n",
    "\n",
    "\n",
    "print(\"Days in November with max temp below average:\")\n",
    "for day in days_below_avg_temp[0]:\n",
    "    print(f\"Day {day + 1}\")"
   ]
  },
  {
   "cell_type": "code",
   "execution_count": 55,
   "id": "5e14aafa-0876-4869-9360-3c14b5d7ae78",
   "metadata": {},
   "outputs": [
    {
     "name": "stdout",
     "output_type": "stream",
     "text": [
      "Temperature Data in Fahrenheit:\n",
      "[[[[ 48.2  82.4]\n",
      "   [ 55.4  89.6]\n",
      "   [ 46.4  73.4]\n",
      "   [ 53.6  77. ]\n",
      "   [ 55.4  80.6]\n",
      "   [ 55.4  80.6]\n",
      "   [ 55.4  78.8]]\n",
      "\n",
      "  [[ 46.4  87.8]\n",
      "   [ 59.   78.8]\n",
      "   [ 48.2  73.4]\n",
      "   [  8.6  75.2]\n",
      "   [ 44.6  78.8]\n",
      "   [ 53.6  69.8]\n",
      "   [ 46.4  80.6]]\n",
      "\n",
      "  [[ 55.4  68. ]\n",
      "   [ 42.8  84.2]\n",
      "   [ 57.2  87.8]\n",
      "   [ 55.4  73.4]\n",
      "   [ 50.   89.6]\n",
      "   [ 42.8  77. ]\n",
      "   [ 44.6  73.4]]\n",
      "\n",
      "  [[ 46.4  80.6]\n",
      "   [ 48.2  84.2]\n",
      "   [ 57.2  68. ]\n",
      "   [ 50.   84.2]\n",
      "   [ 48.2  68. ]\n",
      "   [ 59.   87.8]\n",
      "   [ 48.2  89.6]]]\n",
      "\n",
      "\n",
      " [[[ 46.4  68. ]\n",
      "   [ 57.2  80.6]\n",
      "   [ 48.2  82.4]\n",
      "   [ 46.4  73.4]\n",
      "   [ 42.8  78.8]\n",
      "   [ 44.6  84.2]\n",
      "   [ 55.4  69.8]]\n",
      "\n",
      "  [[ 50.   86. ]\n",
      "   [ 57.2  73.4]\n",
      "   [ 46.4  84.2]\n",
      "   [ 53.6  68. ]\n",
      "   [ 48.2  68. ]\n",
      "   [ 53.6  73.4]\n",
      "   [ 44.6  77. ]]\n",
      "\n",
      "  [[ 51.8  84.2]\n",
      "   [ 51.8  82.4]\n",
      "   [ 42.8  89.6]\n",
      "   [ 59.   68. ]\n",
      "   [ 46.4  73.4]\n",
      "   [ 50.   86. ]\n",
      "   [ 59.   80.6]]\n",
      "\n",
      "  [[ 53.6  87.8]\n",
      "   [ 48.2  71.6]\n",
      "   [ 53.6  89.6]\n",
      "   [ 57.2  87.8]\n",
      "   [ 50.   86. ]\n",
      "   [ 44.6  82.4]\n",
      "   [ 59.   82.4]]]\n",
      "\n",
      "\n",
      " [[[ 44.6  69.8]\n",
      "   [ 44.6  69.8]\n",
      "   [ 41.   68. ]\n",
      "   [ 37.4  71.6]\n",
      "   [ 39.2  69.8]\n",
      "   [ 37.4  41. ]\n",
      "   [ 68.   35.6]]\n",
      "\n",
      "  [[ 41.   71.6]\n",
      "   [ 35.6  69.8]\n",
      "   [ 35.6  64.4]\n",
      "   [ 39.2  64.4]\n",
      "   [ 42.8  68. ]\n",
      "   [ 37.4  35.6]\n",
      "   [ 69.8  44.6]]\n",
      "\n",
      "  [[ 42.8  69.8]\n",
      "   [ 46.4  64.4]\n",
      "   [ 42.8  66.2]\n",
      "   [ 35.6  71.6]\n",
      "   [ 41.   71.6]\n",
      "   [ 35.6  39.2]\n",
      "   [ 69.8  39.2]]\n",
      "\n",
      "  [[ 44.6  69.8]\n",
      "   [ 44.6  64.4]\n",
      "   [ 41.   66.2]\n",
      "   [ 41.   69.8]\n",
      "   [ 44.6  66.2]\n",
      "   [ 46.4  46.4]\n",
      "   [ 68.   44.6]]]\n",
      "\n",
      "\n",
      " [[[ 44.6  68. ]\n",
      "   [ 53.6  68. ]\n",
      "   [ 14.   68. ]\n",
      "   [ 50.   68. ]\n",
      "   [ 44.6  68. ]\n",
      "   [ 48.2 159.8]\n",
      "   [ 64.4  46.4]]\n",
      "\n",
      "  [[ 51.8  69.8]\n",
      "   [ 46.4  71.6]\n",
      "   [ 48.2  68. ]\n",
      "   [ 48.2  68. ]\n",
      "   [ 48.2  66.2]\n",
      "   [ 53.6  51.8]\n",
      "   [ 66.2  46.4]]\n",
      "\n",
      "  [[ 46.4  68. ]\n",
      "   [ 44.6  64.4]\n",
      "   [ 46.4  69.8]\n",
      "   [ 48.2  66.2]\n",
      "   [ 51.8  66.2]\n",
      "   [ 50.   44.6]\n",
      "   [ 68.   44.6]]\n",
      "\n",
      "  [[ 50.   64.4]\n",
      "   [ 53.6  71.6]\n",
      "   [ 44.6  69.8]\n",
      "   [ 48.2  68. ]\n",
      "   [ 46.4  64.4]\n",
      "   [ 50.   51.8]\n",
      "   [ 68.   50. ]]]]\n"
     ]
    }
   ],
   "source": [
    "#Q18\n",
    "b_f = (b * 9/5) + 32\n",
    "\n",
    "print(\"Temperature Data in Fahrenheit:\")\n",
    "print(b_f)"
   ]
  },
  {
   "cell_type": "code",
   "execution_count": 56,
   "id": "785c4cf7-a124-44c8-986a-98c8d79cee94",
   "metadata": {},
   "outputs": [
    {
     "name": "stdout",
     "output_type": "stream",
     "text": [
      "Sorted Data for December:\n",
      "[[[[  7  20]\n",
      "   [ 12  20]\n",
      "   [-10  20]\n",
      "   [ 10  20]\n",
      "   [  7  20]\n",
      "   [  9  71]\n",
      "   [ 18   8]]\n",
      "\n",
      "  [[ 11  21]\n",
      "   [  8  22]\n",
      "   [  9  20]\n",
      "   [  9  20]\n",
      "   [  9  19]\n",
      "   [ 12  11]\n",
      "   [ 19   8]]\n",
      "\n",
      "  [[  8  20]\n",
      "   [  7  18]\n",
      "   [  8  21]\n",
      "   [  9  19]\n",
      "   [ 11  19]\n",
      "   [ 10   7]\n",
      "   [ 20   7]]\n",
      "\n",
      "  [[ 10  18]\n",
      "   [ 12  22]\n",
      "   [  7  21]\n",
      "   [  9  20]\n",
      "   [  8  18]\n",
      "   [ 10  11]\n",
      "   [ 20  10]]]\n",
      "\n",
      "\n",
      " [[[  7  21]\n",
      "   [  7  21]\n",
      "   [  5  20]\n",
      "   [  3  22]\n",
      "   [  4  21]\n",
      "   [  3   5]\n",
      "   [ 20   2]]\n",
      "\n",
      "  [[  5  22]\n",
      "   [  2  21]\n",
      "   [  2  18]\n",
      "   [  4  18]\n",
      "   [  6  20]\n",
      "   [  3   2]\n",
      "   [ 21   7]]\n",
      "\n",
      "  [[  6  21]\n",
      "   [  8  18]\n",
      "   [  6  19]\n",
      "   [  2  22]\n",
      "   [  5  22]\n",
      "   [  2   4]\n",
      "   [ 21   4]]\n",
      "\n",
      "  [[  7  21]\n",
      "   [  7  18]\n",
      "   [  5  19]\n",
      "   [  5  21]\n",
      "   [  7  19]\n",
      "   [  8   8]\n",
      "   [ 20   7]]]\n",
      "\n",
      "\n",
      " [[[  8  20]\n",
      "   [ 14  27]\n",
      "   [  9  28]\n",
      "   [  8  23]\n",
      "   [  6  26]\n",
      "   [  7  29]\n",
      "   [ 13  21]]\n",
      "\n",
      "  [[ 10  30]\n",
      "   [ 14  23]\n",
      "   [  8  29]\n",
      "   [ 12  20]\n",
      "   [  9  20]\n",
      "   [ 12  23]\n",
      "   [  7  25]]\n",
      "\n",
      "  [[ 11  29]\n",
      "   [ 11  28]\n",
      "   [  6  32]\n",
      "   [ 15  20]\n",
      "   [  8  23]\n",
      "   [ 10  30]\n",
      "   [ 15  27]]\n",
      "\n",
      "  [[ 12  31]\n",
      "   [  9  22]\n",
      "   [ 12  32]\n",
      "   [ 14  31]\n",
      "   [ 10  30]\n",
      "   [  7  28]\n",
      "   [ 15  28]]]\n",
      "\n",
      "\n",
      " [[[  9  28]\n",
      "   [ 13  32]\n",
      "   [  8  23]\n",
      "   [ 12  25]\n",
      "   [ 13  27]\n",
      "   [ 13  27]\n",
      "   [ 13  26]]\n",
      "\n",
      "  [[  8  31]\n",
      "   [ 15  26]\n",
      "   [  9  23]\n",
      "   [-13  24]\n",
      "   [  7  26]\n",
      "   [ 12  21]\n",
      "   [  8  27]]\n",
      "\n",
      "  [[ 13  20]\n",
      "   [  6  29]\n",
      "   [ 14  31]\n",
      "   [ 13  23]\n",
      "   [ 10  32]\n",
      "   [  6  25]\n",
      "   [  7  23]]\n",
      "\n",
      "  [[  8  27]\n",
      "   [  9  29]\n",
      "   [ 14  20]\n",
      "   [ 10  29]\n",
      "   [  9  20]\n",
      "   [ 15  31]\n",
      "   [  9  32]]]]\n"
     ]
    }
   ],
   "source": [
    "#Q19\n",
    "\n",
    "dec_avg_temps = b[1, :, :, :].mean(axis=(1, 2))\n",
    "\n",
    "\n",
    "sorted_data_dec = b[dec_avg_temps.argsort()[::-1]]\n",
    "\n",
    "print(\"Sorted Data for December:\")\n",
    "print(sorted_data_dec)"
   ]
  },
  {
   "cell_type": "code",
   "execution_count": 58,
   "id": "f89ebea4-49c8-40db-a193-3bd06447b8d6",
   "metadata": {},
   "outputs": [
    {
     "name": "stdout",
     "output_type": "stream",
     "text": [
      "Temperature Difference Between Min Temp of Consecutive Days for Each Month:\n",
      "[[[  4  -5   4   1   0   0]\n",
      "  [  7  -6 -22  20   5  -4]\n",
      "  [ -7   8  -1  -3  -4   1]\n",
      "  [  1   5  -4  -1   6  -6]]\n",
      "\n",
      " [[  6  -5  -1  -2   1   6]\n",
      "  [  4  -6   4  -3   3  -5]\n",
      "  [  0  -5   9  -7   2   5]\n",
      "  [ -3   3   2  -4  -3   8]]\n",
      "\n",
      " [[  0  -2  -2   1  -1  17]\n",
      "  [ -3   0   2   2  -3  18]\n",
      "  [  2  -2  -4   3  -3  19]\n",
      "  [  0  -2   0   2   1  12]]\n",
      "\n",
      " [[  5 -22  20  -3   2   9]\n",
      "  [ -3   1   0   0   3   7]\n",
      "  [ -1   1   1   2  -1  10]\n",
      "  [  2  -5   2  -1   2  10]]]\n"
     ]
    }
   ],
   "source": [
    "#Q24\n",
    "# Calculate the difference between min temp of two consecutive days for each month\n",
    "min_temp_diff_per_month = b[:, :, 1:, 0] - b[:, :, :-1, 0]\n",
    "\n",
    "print(\"Temperature Difference Between Min Temp of Consecutive Days for Each Month:\")\n",
    "print(min_temp_diff_per_month)"
   ]
  },
  {
   "cell_type": "code",
   "execution_count": null,
   "id": "fbb228e5-f35f-4a90-bcf0-dadb0d3ad531",
   "metadata": {},
   "outputs": [],
   "source": []
  }
 ],
 "metadata": {
  "kernelspec": {
   "display_name": "Python 3 (ipykernel)",
   "language": "python",
   "name": "python3"
  },
  "language_info": {
   "codemirror_mode": {
    "name": "ipython",
    "version": 3
   },
   "file_extension": ".py",
   "mimetype": "text/x-python",
   "name": "python",
   "nbconvert_exporter": "python",
   "pygments_lexer": "ipython3",
   "version": "3.9.13"
  }
 },
 "nbformat": 4,
 "nbformat_minor": 5
}
