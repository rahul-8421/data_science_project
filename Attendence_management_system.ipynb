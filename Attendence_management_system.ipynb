{
 "cells": [
  {
   "cell_type": "code",
   "execution_count": 1,
   "id": "91a78879-0585-4fa6-a35b-e824eba25ea4",
   "metadata": {},
   "outputs": [
    {
     "name": "stdin",
     "output_type": "stream",
     "text": [
      "Username:  admin\n",
      "Password:  password\n"
     ]
    },
    {
     "name": "stdout",
     "output_type": "stream",
     "text": [
      "\n",
      "Attendance Management System\n",
      "1. Add Student\n",
      "2. Mark Attendance\n",
      "3. View Attendance\n",
      "4. Generate Report\n",
      "5. Exit\n"
     ]
    },
    {
     "name": "stdin",
     "output_type": "stream",
     "text": [
      "Enter your choice:  1\n",
      "Enter Roll Number:  21\n",
      "Enter Name:  rahul kumar\n"
     ]
    },
    {
     "name": "stdout",
     "output_type": "stream",
     "text": [
      "\n",
      "Attendance Management System\n",
      "1. Add Student\n",
      "2. Mark Attendance\n",
      "3. View Attendance\n",
      "4. Generate Report\n",
      "5. Exit\n"
     ]
    },
    {
     "name": "stdin",
     "output_type": "stream",
     "text": [
      "Enter your choice:  2\n",
      "Enter Date (YYYY-MM-DD):  05-08-2002\n",
      "Enter Present Roll Numbers (comma-separated):  21\n"
     ]
    },
    {
     "name": "stdout",
     "output_type": "stream",
     "text": [
      "\n",
      "Attendance Management System\n",
      "1. Add Student\n",
      "2. Mark Attendance\n",
      "3. View Attendance\n",
      "4. Generate Report\n",
      "5. Exit\n"
     ]
    },
    {
     "name": "stdin",
     "output_type": "stream",
     "text": [
      "Enter your choice:  3\n",
      "Enter Roll Number:  21\n"
     ]
    },
    {
     "name": "stdout",
     "output_type": "stream",
     "text": [
      "Attendance for rahul kumar\n",
      "05-08-2002 Present\n",
      "\n",
      "Attendance Management System\n",
      "1. Add Student\n",
      "2. Mark Attendance\n",
      "3. View Attendance\n",
      "4. Generate Report\n",
      "5. Exit\n"
     ]
    },
    {
     "name": "stdin",
     "output_type": "stream",
     "text": [
      "Enter your choice:  4\n",
      "Enter Date (YYYY-MM-DD):  05-08-2002\n"
     ]
    },
    {
     "name": "stdout",
     "output_type": "stream",
     "text": [
      "Attendance Report for 05-08-2002\n",
      "Present: 1\n",
      "Total: 1\n",
      "Percentage: 100.0 %\n",
      "\n",
      "Attendance Management System\n",
      "1. Add Student\n",
      "2. Mark Attendance\n",
      "3. View Attendance\n",
      "4. Generate Report\n",
      "5. Exit\n"
     ]
    },
    {
     "name": "stdin",
     "output_type": "stream",
     "text": [
      "Enter your choice:  5\n"
     ]
    }
   ],
   "source": [
    "import csv\n",
    "from datetime import datetime\n",
    "\n",
    "# Dictionary to store user credentials \n",
    "users = {\n",
    "    \"admin\": \"password\"\n",
    "}\n",
    "\n",
    "# Dictionary to store student/employee information\n",
    "students = {}\n",
    "\n",
    "# Dictionary to store attendance records\n",
    "attendance_records = {}\n",
    "\n",
    "def login():\n",
    "    username = input(\"Username: \")\n",
    "    password = input(\"Password: \")\n",
    "    \n",
    "    if username in users and users[username] == password:\n",
    "        return True\n",
    "    else:\n",
    "        print(\"Invalid credentials.\")\n",
    "        return False\n",
    "\n",
    "def add_student():\n",
    "    roll_number = input(\"Enter Roll Number: \")\n",
    "    name = input(\"Enter Name: \")\n",
    "    students[roll_number] = name\n",
    "\n",
    "def mark_attendance():\n",
    "    date = input(\"Enter Date (YYYY-MM-DD): \")\n",
    "    present_roll_numbers = input(\"Enter Present Roll Numbers (comma-separated): \").split(',')\n",
    "    \n",
    "    if date not in attendance_records:\n",
    "        attendance_records[date] = {}\n",
    "    \n",
    "    for roll_number in present_roll_numbers:\n",
    "        if roll_number in students:\n",
    "            attendance_records[date][roll_number] = True\n",
    "\n",
    "def view_attendance():\n",
    "    roll_number = input(\"Enter Roll Number: \")\n",
    "    \n",
    "    if roll_number in students:\n",
    "        print(\"Attendance for\", students[roll_number])\n",
    "        for date, record in attendance_records.items():\n",
    "            if roll_number in record:\n",
    "                print(date, \"Present\")\n",
    "            else:\n",
    "                print(date, \"Absent\")\n",
    "\n",
    "def generate_report():\n",
    "    date = input(\"Enter Date (YYYY-MM-DD): \")\n",
    "    \n",
    "    if date in attendance_records:\n",
    "        present_count = sum(1 for record in attendance_records[date].values() if record)\n",
    "        total_count = len(attendance_records[date])\n",
    "        percentage = (present_count / total_count) * 100\n",
    "        \n",
    "        print(\"Attendance Report for\", date)\n",
    "        print(\"Present:\", present_count)\n",
    "        print(\"Total:\", total_count)\n",
    "        print(\"Percentage:\", percentage, \"%\")\n",
    "\n",
    "def export_to_csv():\n",
    "    filename = input(\"Enter CSV filename: \")\n",
    "    \n",
    "    with open(filename, 'w', newline='') as csvfile:\n",
    "        csvwriter = csv.writer(csvfile)\n",
    "        csvwriter.writerow([\"Date\", \"Roll Number\", \"Name\", \"Status\"])\n",
    "        \n",
    "        for date, record in attendance_records.items():\n",
    "            for roll_number, present in record.items():\n",
    "                csvwriter.writerow([date, roll_number, students.get(roll_number, \"Unknown\"), \"Present\" if present else \"Absent\"])\n",
    "\n",
    "def main():\n",
    "    if not login():\n",
    "        return\n",
    "    \n",
    "    while True:\n",
    "        print(\"\\nAttendance Management System\")\n",
    "        print(\"1. Add Student\")\n",
    "        print(\"2. Mark Attendance\")\n",
    "        print(\"3. View Attendance\")\n",
    "        print(\"4. Generate Report\")\n",
    "        print(\"5. Exit\")\n",
    "        \n",
    "        choice = input(\"Enter your choice: \")\n",
    "        \n",
    "        if choice == '1':\n",
    "            add_student()\n",
    "        elif choice == '2':\n",
    "            mark_attendance()\n",
    "        elif choice == '3':\n",
    "            view_attendance()\n",
    "        elif choice == '4':\n",
    "            generate_report()\n",
    "        elif choice == '5':\n",
    "            break\n",
    "        else:\n",
    "            print(\"Invalid choice. Please try again.\")\n",
    "\n",
    "if __name__ == \"__main__\":\n",
    "    main()\n"
   ]
  },
  {
   "cell_type": "code",
   "execution_count": null,
   "id": "7b0e569d-d640-45be-82fb-2d9fd0f15632",
   "metadata": {},
   "outputs": [],
   "source": [
    "3\n"
   ]
  }
 ],
 "metadata": {
  "kernelspec": {
   "display_name": "Python 3 (ipykernel)",
   "language": "python",
   "name": "python3"
  },
  "language_info": {
   "codemirror_mode": {
    "name": "ipython",
    "version": 3
   },
   "file_extension": ".py",
   "mimetype": "text/x-python",
   "name": "python",
   "nbconvert_exporter": "python",
   "pygments_lexer": "ipython3",
   "version": "3.11.4"
  }
 },
 "nbformat": 4,
 "nbformat_minor": 5
}
